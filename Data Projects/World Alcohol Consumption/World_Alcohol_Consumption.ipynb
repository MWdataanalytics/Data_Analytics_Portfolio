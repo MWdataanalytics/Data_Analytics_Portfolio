{
 "cells": [
  {
   "cell_type": "markdown",
   "metadata": {},
   "source": [
    "# World Alcohol Consumption\n",
    "\n",
    "This project was inspired by the <i>FiveThirtyEight</i> article, \"<a href=\"https://fivethirtyeight.com/features/dear-mona-followup-where-do-people-drink-the-most-beer-wine-and-spirits/\">Dear Mona Followup: Where Do People Drink The Most Beer, Wine And Spirits?</a>\". The 2010 alcohol consumption data included in the article was provided by <i>FiveThirtyEight</i> on <a href=\"https://github.com/fivethirtyeight/data/blob/master/alcohol-consumption/drinks.csv\">GitHub</a>. Plotly was used to take this data one step further and map world beer, wine, spirit, and total alcohol consumption. My workflow is structured as follows:\n",
    "1. Data cleaning and merging country codes using pandas\n",
    "2. Mapping world alcohol consumption using plotly\n",
    "3. Final thoughts"
   ]
  },
  {
   "cell_type": "code",
   "execution_count": 12,
   "metadata": {
    "collapsed": true
   },
   "outputs": [],
   "source": [
    "import pandas as pd\n",
    "import plotly.plotly as py"
   ]
  },
  {
   "cell_type": "code",
   "execution_count": 13,
   "metadata": {
    "scrolled": true
   },
   "outputs": [
    {
     "data": {
      "text/html": [
       "<div>\n",
       "<style>\n",
       "    .dataframe thead tr:only-child th {\n",
       "        text-align: right;\n",
       "    }\n",
       "\n",
       "    .dataframe thead th {\n",
       "        text-align: left;\n",
       "    }\n",
       "\n",
       "    .dataframe tbody tr th {\n",
       "        vertical-align: top;\n",
       "    }\n",
       "</style>\n",
       "<table border=\"1\" class=\"dataframe\">\n",
       "  <thead>\n",
       "    <tr style=\"text-align: right;\">\n",
       "      <th></th>\n",
       "      <th>country</th>\n",
       "      <th>beer_servings</th>\n",
       "      <th>spirit_servings</th>\n",
       "      <th>wine_servings</th>\n",
       "      <th>total_litres_of_pure_alcohol</th>\n",
       "    </tr>\n",
       "  </thead>\n",
       "  <tbody>\n",
       "    <tr>\n",
       "      <th>0</th>\n",
       "      <td>Afghanistan</td>\n",
       "      <td>0</td>\n",
       "      <td>0</td>\n",
       "      <td>0</td>\n",
       "      <td>0.0</td>\n",
       "    </tr>\n",
       "    <tr>\n",
       "      <th>1</th>\n",
       "      <td>Albania</td>\n",
       "      <td>89</td>\n",
       "      <td>132</td>\n",
       "      <td>54</td>\n",
       "      <td>4.9</td>\n",
       "    </tr>\n",
       "    <tr>\n",
       "      <th>2</th>\n",
       "      <td>Algeria</td>\n",
       "      <td>25</td>\n",
       "      <td>0</td>\n",
       "      <td>14</td>\n",
       "      <td>0.7</td>\n",
       "    </tr>\n",
       "    <tr>\n",
       "      <th>3</th>\n",
       "      <td>Andorra</td>\n",
       "      <td>245</td>\n",
       "      <td>138</td>\n",
       "      <td>312</td>\n",
       "      <td>12.4</td>\n",
       "    </tr>\n",
       "    <tr>\n",
       "      <th>4</th>\n",
       "      <td>Angola</td>\n",
       "      <td>217</td>\n",
       "      <td>57</td>\n",
       "      <td>45</td>\n",
       "      <td>5.9</td>\n",
       "    </tr>\n",
       "  </tbody>\n",
       "</table>\n",
       "</div>"
      ],
      "text/plain": [
       "       country  beer_servings  spirit_servings  wine_servings  \\\n",
       "0  Afghanistan              0                0              0   \n",
       "1      Albania             89              132             54   \n",
       "2      Algeria             25                0             14   \n",
       "3      Andorra            245              138            312   \n",
       "4       Angola            217               57             45   \n",
       "\n",
       "   total_litres_of_pure_alcohol  \n",
       "0                           0.0  \n",
       "1                           4.9  \n",
       "2                           0.7  \n",
       "3                          12.4  \n",
       "4                           5.9  "
      ]
     },
     "execution_count": 13,
     "metadata": {},
     "output_type": "execute_result"
    }
   ],
   "source": [
    "#Read in .csv file \n",
    "world_url = \"https://raw.githubusercontent.com/fivethirtyeight/data/master/alcohol-consumption/drinks.csv\"\n",
    "world_alcohol = pd.read_csv(world_url)\n",
    "world_alcohol.head()"
   ]
  },
  {
   "cell_type": "markdown",
   "metadata": {},
   "source": [
    "## Data Cleaning and Merging\n",
    "We're missing the country codes needed to map these figures. Let's find this data online and incorporate these into our existing dataframe."
   ]
  },
  {
   "cell_type": "code",
   "execution_count": 14,
   "metadata": {
    "scrolled": true
   },
   "outputs": [
    {
     "data": {
      "text/html": [
       "<div>\n",
       "<style>\n",
       "    .dataframe thead tr:only-child th {\n",
       "        text-align: right;\n",
       "    }\n",
       "\n",
       "    .dataframe thead th {\n",
       "        text-align: left;\n",
       "    }\n",
       "\n",
       "    .dataframe tbody tr th {\n",
       "        vertical-align: top;\n",
       "    }\n",
       "</style>\n",
       "<table border=\"1\" class=\"dataframe\">\n",
       "  <thead>\n",
       "    <tr style=\"text-align: right;\">\n",
       "      <th></th>\n",
       "      <th>Country</th>\n",
       "      <th>Alpha-2 code</th>\n",
       "      <th>Alpha-3 code</th>\n",
       "      <th>Numeric code</th>\n",
       "      <th>Latitude (average)</th>\n",
       "      <th>Longitude (average)</th>\n",
       "    </tr>\n",
       "  </thead>\n",
       "  <tbody>\n",
       "    <tr>\n",
       "      <th>0</th>\n",
       "      <td>Afghanistan</td>\n",
       "      <td>\"AF\"</td>\n",
       "      <td>\"AFG\"</td>\n",
       "      <td>\"4\"</td>\n",
       "      <td>\"33\"</td>\n",
       "      <td>\"65\"</td>\n",
       "    </tr>\n",
       "    <tr>\n",
       "      <th>1</th>\n",
       "      <td>Albania</td>\n",
       "      <td>\"AL\"</td>\n",
       "      <td>\"ALB\"</td>\n",
       "      <td>\"8\"</td>\n",
       "      <td>\"41\"</td>\n",
       "      <td>\"20\"</td>\n",
       "    </tr>\n",
       "    <tr>\n",
       "      <th>2</th>\n",
       "      <td>Algeria</td>\n",
       "      <td>\"DZ\"</td>\n",
       "      <td>\"DZA\"</td>\n",
       "      <td>\"12\"</td>\n",
       "      <td>\"28\"</td>\n",
       "      <td>\"3\"</td>\n",
       "    </tr>\n",
       "    <tr>\n",
       "      <th>3</th>\n",
       "      <td>American Samoa</td>\n",
       "      <td>\"AS\"</td>\n",
       "      <td>\"ASM\"</td>\n",
       "      <td>\"16\"</td>\n",
       "      <td>\"-14.3333\"</td>\n",
       "      <td>\"-170\"</td>\n",
       "    </tr>\n",
       "    <tr>\n",
       "      <th>4</th>\n",
       "      <td>Andorra</td>\n",
       "      <td>\"AD\"</td>\n",
       "      <td>\"AND\"</td>\n",
       "      <td>\"20\"</td>\n",
       "      <td>\"42.5\"</td>\n",
       "      <td>\"1.6\"</td>\n",
       "    </tr>\n",
       "  </tbody>\n",
       "</table>\n",
       "</div>"
      ],
      "text/plain": [
       "          Country Alpha-2 code Alpha-3 code Numeric code Latitude (average)  \\\n",
       "0     Afghanistan         \"AF\"        \"AFG\"          \"4\"               \"33\"   \n",
       "1         Albania         \"AL\"        \"ALB\"          \"8\"               \"41\"   \n",
       "2         Algeria         \"DZ\"        \"DZA\"         \"12\"               \"28\"   \n",
       "3  American Samoa         \"AS\"        \"ASM\"         \"16\"         \"-14.3333\"   \n",
       "4         Andorra         \"AD\"        \"AND\"         \"20\"             \"42.5\"   \n",
       "\n",
       "  Longitude (average)  \n",
       "0                \"65\"  \n",
       "1                \"20\"  \n",
       "2                 \"3\"  \n",
       "3              \"-170\"  \n",
       "4               \"1.6\"  "
      ]
     },
     "execution_count": 14,
     "metadata": {},
     "output_type": "execute_result"
    }
   ],
   "source": [
    "#Read in country codes data found on GitHub\n",
    "code_url = \"https://gist.githubusercontent.com/tadast/8827699/raw/7255fdfbf292c592b75cf5f7a19c16ea59735f74/countries_codes_and_coordinates.csv\"\n",
    "code_df = pd.read_csv(code_url)\n",
    "\n",
    "code_df.head()"
   ]
  },
  {
   "cell_type": "markdown",
   "metadata": {},
   "source": [
    "We'll first clean this data by only including the country and corresponsing Alpha-3 code and stripping the quotation marks. "
   ]
  },
  {
   "cell_type": "code",
   "execution_count": 15,
   "metadata": {},
   "outputs": [
    {
     "data": {
      "text/html": [
       "<div>\n",
       "<style>\n",
       "    .dataframe thead tr:only-child th {\n",
       "        text-align: right;\n",
       "    }\n",
       "\n",
       "    .dataframe thead th {\n",
       "        text-align: left;\n",
       "    }\n",
       "\n",
       "    .dataframe tbody tr th {\n",
       "        vertical-align: top;\n",
       "    }\n",
       "</style>\n",
       "<table border=\"1\" class=\"dataframe\">\n",
       "  <thead>\n",
       "    <tr style=\"text-align: right;\">\n",
       "      <th></th>\n",
       "      <th>country</th>\n",
       "      <th>code</th>\n",
       "    </tr>\n",
       "  </thead>\n",
       "  <tbody>\n",
       "    <tr>\n",
       "      <th>0</th>\n",
       "      <td>Afghanistan</td>\n",
       "      <td>AFG</td>\n",
       "    </tr>\n",
       "    <tr>\n",
       "      <th>1</th>\n",
       "      <td>Albania</td>\n",
       "      <td>ALB</td>\n",
       "    </tr>\n",
       "    <tr>\n",
       "      <th>2</th>\n",
       "      <td>Algeria</td>\n",
       "      <td>DZA</td>\n",
       "    </tr>\n",
       "    <tr>\n",
       "      <th>3</th>\n",
       "      <td>American Samoa</td>\n",
       "      <td>ASM</td>\n",
       "    </tr>\n",
       "    <tr>\n",
       "      <th>4</th>\n",
       "      <td>Andorra</td>\n",
       "      <td>AND</td>\n",
       "    </tr>\n",
       "  </tbody>\n",
       "</table>\n",
       "</div>"
      ],
      "text/plain": [
       "          country code\n",
       "0     Afghanistan  AFG\n",
       "1         Albania  ALB\n",
       "2         Algeria  DZA\n",
       "3  American Samoa  ASM\n",
       "4         Andorra  AND"
      ]
     },
     "execution_count": 15,
     "metadata": {},
     "output_type": "execute_result"
    }
   ],
   "source": [
    "code_df['Alpha-3 code'] = code_df['Alpha-3 code'].apply(lambda x: x.replace('\"','').strip())\n",
    "only_code_df = code_df[['Country','Alpha-3 code']]\n",
    "#Rename columns to match naming convention of existing dataframe\n",
    "only_code_df.columns = ['country','code'] \n",
    "\n",
    "only_code_df.head()"
   ]
  },
  {
   "cell_type": "code",
   "execution_count": 16,
   "metadata": {},
   "outputs": [
    {
     "data": {
      "text/html": [
       "<div>\n",
       "<style>\n",
       "    .dataframe thead tr:only-child th {\n",
       "        text-align: right;\n",
       "    }\n",
       "\n",
       "    .dataframe thead th {\n",
       "        text-align: left;\n",
       "    }\n",
       "\n",
       "    .dataframe tbody tr th {\n",
       "        vertical-align: top;\n",
       "    }\n",
       "</style>\n",
       "<table border=\"1\" class=\"dataframe\">\n",
       "  <thead>\n",
       "    <tr style=\"text-align: right;\">\n",
       "      <th></th>\n",
       "      <th>country</th>\n",
       "      <th>beer_servings</th>\n",
       "      <th>spirit_servings</th>\n",
       "      <th>wine_servings</th>\n",
       "      <th>total_litres_of_pure_alcohol</th>\n",
       "      <th>code</th>\n",
       "    </tr>\n",
       "  </thead>\n",
       "  <tbody>\n",
       "    <tr>\n",
       "      <th>5</th>\n",
       "      <td>Antigua &amp; Barbuda</td>\n",
       "      <td>102</td>\n",
       "      <td>128</td>\n",
       "      <td>45</td>\n",
       "      <td>4.9</td>\n",
       "      <td>NaN</td>\n",
       "    </tr>\n",
       "    <tr>\n",
       "      <th>21</th>\n",
       "      <td>Bosnia-Herzegovina</td>\n",
       "      <td>76</td>\n",
       "      <td>173</td>\n",
       "      <td>8</td>\n",
       "      <td>4.6</td>\n",
       "      <td>NaN</td>\n",
       "    </tr>\n",
       "    <tr>\n",
       "      <th>28</th>\n",
       "      <td>Cote d'Ivoire</td>\n",
       "      <td>37</td>\n",
       "      <td>1</td>\n",
       "      <td>7</td>\n",
       "      <td>4.0</td>\n",
       "      <td>NaN</td>\n",
       "    </tr>\n",
       "    <tr>\n",
       "      <th>29</th>\n",
       "      <td>Cabo Verde</td>\n",
       "      <td>144</td>\n",
       "      <td>56</td>\n",
       "      <td>16</td>\n",
       "      <td>4.0</td>\n",
       "      <td>NaN</td>\n",
       "    </tr>\n",
       "    <tr>\n",
       "      <th>46</th>\n",
       "      <td>North Korea</td>\n",
       "      <td>0</td>\n",
       "      <td>0</td>\n",
       "      <td>0</td>\n",
       "      <td>0.0</td>\n",
       "      <td>NaN</td>\n",
       "    </tr>\n",
       "    <tr>\n",
       "      <th>47</th>\n",
       "      <td>DR Congo</td>\n",
       "      <td>32</td>\n",
       "      <td>3</td>\n",
       "      <td>1</td>\n",
       "      <td>2.3</td>\n",
       "      <td>NaN</td>\n",
       "    </tr>\n",
       "    <tr>\n",
       "      <th>79</th>\n",
       "      <td>Iran</td>\n",
       "      <td>0</td>\n",
       "      <td>0</td>\n",
       "      <td>0</td>\n",
       "      <td>0.0</td>\n",
       "      <td>NaN</td>\n",
       "    </tr>\n",
       "    <tr>\n",
       "      <th>92</th>\n",
       "      <td>Laos</td>\n",
       "      <td>62</td>\n",
       "      <td>0</td>\n",
       "      <td>123</td>\n",
       "      <td>6.2</td>\n",
       "      <td>NaN</td>\n",
       "    </tr>\n",
       "    <tr>\n",
       "      <th>110</th>\n",
       "      <td>Micronesia</td>\n",
       "      <td>62</td>\n",
       "      <td>50</td>\n",
       "      <td>18</td>\n",
       "      <td>2.3</td>\n",
       "      <td>NaN</td>\n",
       "    </tr>\n",
       "    <tr>\n",
       "      <th>139</th>\n",
       "      <td>Moldova</td>\n",
       "      <td>109</td>\n",
       "      <td>226</td>\n",
       "      <td>18</td>\n",
       "      <td>6.3</td>\n",
       "      <td>NaN</td>\n",
       "    </tr>\n",
       "    <tr>\n",
       "      <th>143</th>\n",
       "      <td>St. Kitts &amp; Nevis</td>\n",
       "      <td>194</td>\n",
       "      <td>205</td>\n",
       "      <td>32</td>\n",
       "      <td>7.7</td>\n",
       "      <td>NaN</td>\n",
       "    </tr>\n",
       "    <tr>\n",
       "      <th>144</th>\n",
       "      <td>St. Lucia</td>\n",
       "      <td>171</td>\n",
       "      <td>315</td>\n",
       "      <td>71</td>\n",
       "      <td>10.1</td>\n",
       "      <td>NaN</td>\n",
       "    </tr>\n",
       "    <tr>\n",
       "      <th>145</th>\n",
       "      <td>St. Vincent &amp; the Grenadines</td>\n",
       "      <td>120</td>\n",
       "      <td>221</td>\n",
       "      <td>11</td>\n",
       "      <td>6.3</td>\n",
       "      <td>NaN</td>\n",
       "    </tr>\n",
       "    <tr>\n",
       "      <th>148</th>\n",
       "      <td>Sao Tome &amp; Principe</td>\n",
       "      <td>56</td>\n",
       "      <td>38</td>\n",
       "      <td>140</td>\n",
       "      <td>4.2</td>\n",
       "      <td>NaN</td>\n",
       "    </tr>\n",
       "    <tr>\n",
       "      <th>167</th>\n",
       "      <td>Syria</td>\n",
       "      <td>5</td>\n",
       "      <td>35</td>\n",
       "      <td>16</td>\n",
       "      <td>1.0</td>\n",
       "      <td>NaN</td>\n",
       "    </tr>\n",
       "    <tr>\n",
       "      <th>170</th>\n",
       "      <td>Macedonia</td>\n",
       "      <td>106</td>\n",
       "      <td>27</td>\n",
       "      <td>86</td>\n",
       "      <td>3.9</td>\n",
       "      <td>NaN</td>\n",
       "    </tr>\n",
       "    <tr>\n",
       "      <th>183</th>\n",
       "      <td>Tanzania</td>\n",
       "      <td>36</td>\n",
       "      <td>6</td>\n",
       "      <td>1</td>\n",
       "      <td>5.7</td>\n",
       "      <td>NaN</td>\n",
       "    </tr>\n",
       "    <tr>\n",
       "      <th>184</th>\n",
       "      <td>USA</td>\n",
       "      <td>249</td>\n",
       "      <td>158</td>\n",
       "      <td>84</td>\n",
       "      <td>8.7</td>\n",
       "      <td>NaN</td>\n",
       "    </tr>\n",
       "  </tbody>\n",
       "</table>\n",
       "</div>"
      ],
      "text/plain": [
       "                          country  beer_servings  spirit_servings  \\\n",
       "5               Antigua & Barbuda            102              128   \n",
       "21             Bosnia-Herzegovina             76              173   \n",
       "28                  Cote d'Ivoire             37                1   \n",
       "29                     Cabo Verde            144               56   \n",
       "46                    North Korea              0                0   \n",
       "47                       DR Congo             32                3   \n",
       "79                           Iran              0                0   \n",
       "92                           Laos             62                0   \n",
       "110                    Micronesia             62               50   \n",
       "139                       Moldova            109              226   \n",
       "143             St. Kitts & Nevis            194              205   \n",
       "144                     St. Lucia            171              315   \n",
       "145  St. Vincent & the Grenadines            120              221   \n",
       "148           Sao Tome & Principe             56               38   \n",
       "167                         Syria              5               35   \n",
       "170                     Macedonia            106               27   \n",
       "183                      Tanzania             36                6   \n",
       "184                           USA            249              158   \n",
       "\n",
       "     wine_servings  total_litres_of_pure_alcohol code  \n",
       "5               45                           4.9  NaN  \n",
       "21               8                           4.6  NaN  \n",
       "28               7                           4.0  NaN  \n",
       "29              16                           4.0  NaN  \n",
       "46               0                           0.0  NaN  \n",
       "47               1                           2.3  NaN  \n",
       "79               0                           0.0  NaN  \n",
       "92             123                           6.2  NaN  \n",
       "110             18                           2.3  NaN  \n",
       "139             18                           6.3  NaN  \n",
       "143             32                           7.7  NaN  \n",
       "144             71                          10.1  NaN  \n",
       "145             11                           6.3  NaN  \n",
       "148            140                           4.2  NaN  \n",
       "167             16                           1.0  NaN  \n",
       "170             86                           3.9  NaN  \n",
       "183              1                           5.7  NaN  \n",
       "184             84                           8.7  NaN  "
      ]
     },
     "execution_count": 16,
     "metadata": {},
     "output_type": "execute_result"
    }
   ],
   "source": [
    "#Merge country codes with alcohol data and check null values\n",
    "combined_df = world_alcohol.merge(only_code_df, how=\"left\", on=\"country\")\n",
    "combined_df[combined_df['code'].isnull()] "
   ]
  },
  {
   "cell_type": "markdown",
   "metadata": {},
   "source": [
    "Unfortunately the naming conventions of a handful of countries differed between the two datasets that were merged. We'll have to manually look up the Alpha-3 codes for these specific countries."
   ]
  },
  {
   "cell_type": "code",
   "execution_count": 17,
   "metadata": {
    "scrolled": true
   },
   "outputs": [
    {
     "data": {
      "text/plain": [
       "0"
      ]
     },
     "execution_count": 17,
     "metadata": {},
     "output_type": "execute_result"
    }
   ],
   "source": [
    "#Assign missing Alpha-3 codes\n",
    "country_codes = {\"Antigua & Barbuda\":\"ATG\",\n",
    "                \"Bosnia-Herzegovina\":\"BIH\",\n",
    "                \"Cote d'Ivoire\":\"CIV\",\n",
    "                \"Cabo Verde\":\"CPV\",\n",
    "                \"North Korea\":\"PRK\",\n",
    "                \"DR Congo\":\"COD\",\n",
    "                \"Iran\":\"IRN\",\n",
    "                \"Laos\":\"LAO\",\n",
    "                \"Micronesia\":\"FSM\",\n",
    "                \"Moldova\":\"MDA\",\n",
    "                \"St. Kitts & Nevis\":\"KNA\",\n",
    "                \"St. Lucia\":\"LCA\",\n",
    "                \"St. Vincent & the Grenadines\":\"VCT\",\n",
    "                \"Sao Tome & Principe\":\"STP\",\n",
    "                \"Syria\":\"SYR\",\n",
    "                \"Macedonia\":\"MKD\",\n",
    "                \"Tanzania\":\"TZA\",\n",
    "                \"USA\":\"USA\"}\n",
    "\n",
    "#Use dictionary to map these country codes in our dataframe\n",
    "combined_df['code'] = combined_df['code'].fillna(combined_df['country'].map(country_codes))\n",
    "#Check to make sure there are no more null codes\n",
    "combined_df['code'].isnull().sum()                                    "
   ]
  },
  {
   "cell_type": "markdown",
   "metadata": {},
   "source": [
    "## Mapping World Alcohol Consumption \n",
    "\n",
    "Now that we have Alpha-3 country codes and a clean dataset, we can map alcohol consumption data on an interactive world map using plotly.\n",
    "\n",
    "We'll first define some functions that will be used to format the maps."
   ]
  },
  {
   "cell_type": "code",
   "execution_count": 18,
   "metadata": {
    "collapsed": true
   },
   "outputs": [],
   "source": [
    "def set_layout(title):\n",
    "    layout = dict(\n",
    "        title = title,\n",
    "        geo = dict(\n",
    "            showframe = False,\n",
    "            showcoastlines = False,\n",
    "            projection = dict(\n",
    "                type = 'robinson'\n",
    "            )\n",
    "        )\n",
    "    )\n",
    "    return layout\n",
    "\n",
    "def set_data(bar_title, column, colorscale):\n",
    "    data = [dict(\n",
    "            type = 'choropleth',\n",
    "            locations = combined_df['code'],\n",
    "            z = combined_df[column],\n",
    "            text = combined_df['country'],\n",
    "            colorscale = colorscale,\n",
    "            autocolorscale = False,\n",
    "            marker = dict(\n",
    "                line = dict(\n",
    "                    color = 'rgb(180,180,180)',\n",
    "                    width = 0.3\n",
    "                )),\n",
    "            colorbar = dict(\n",
    "                autotick = True,\n",
    "                title = bar_title),\n",
    "          )]\n",
    "    return data"
   ]
  },
  {
   "cell_type": "markdown",
   "metadata": {},
   "source": [
    "### Mapping Total Alcohol Consumption"
   ]
  },
  {
   "cell_type": "code",
   "execution_count": 19,
   "metadata": {},
   "outputs": [
    {
     "data": {
      "text/html": [
       "<iframe id=\"igraph\" scrolling=\"no\" style=\"border:none;\" seamless=\"seamless\" src=\"https://plot.ly/~winkmat7/10.embed\" height=\"525px\" width=\"100%\"></iframe>"
      ],
      "text/plain": [
       "<plotly.tools.PlotlyDisplay object>"
      ]
     },
     "execution_count": 19,
     "metadata": {},
     "output_type": "execute_result"
    }
   ],
   "source": [
    "alcohol_colorscale = [[0,\"rgb(242, 242, 242)\"],\n",
    "            [0.2,\"rgb(196, 216, 237)\"],\n",
    "            [0.4,\"rgb(138, 177, 219)\"],\n",
    "            [0.6,\"rgb(61, 125, 194)\"],\n",
    "            [0.8,\"rgb(37, 75, 116)\"],\n",
    "            [1,\"rgb(13, 26, 38)\"]]\n",
    "\n",
    "alcohol_title = '2010 World Alcohol Consumption'\n",
    "alcohol_bar_title = 'Total Liters of Pure Alcohol <br>Consumed (per person)</br>'\n",
    "alcohol_column = 'total_litres_of_pure_alcohol'\n",
    "\n",
    "alcohol_data = set_data(alcohol_bar_title, alcohol_column, alcohol_colorscale)\n",
    "alcohol_layout = set_layout(alcohol_title)\n",
    "\n",
    "alcohol_fig = dict(data=alcohol_data, layout=alcohol_layout )\n",
    "py.iplot(alcohol_fig, validate=False, filename='alcohol-world-map', sharing='public')"
   ]
  },
  {
   "cell_type": "markdown",
   "metadata": {},
   "source": [
    "It comes to no surprise that alcohol consumption seems to be highest in Europe and lowest in North Africa and the Middle East. Whereas alcohol consumption has been ingrained in European culture for centuries, alcohol is generally not consumed in Islamic countries due to religious reasons. \n",
    "\n",
    "Let's plot specific alcohol consumption and see what we find. "
   ]
  },
  {
   "cell_type": "markdown",
   "metadata": {},
   "source": [
    "### Mapping Beer Consumption"
   ]
  },
  {
   "cell_type": "code",
   "execution_count": 20,
   "metadata": {},
   "outputs": [
    {
     "data": {
      "text/html": [
       "<iframe id=\"igraph\" scrolling=\"no\" style=\"border:none;\" seamless=\"seamless\" src=\"https://plot.ly/~winkmat7/14.embed\" height=\"525px\" width=\"100%\"></iframe>"
      ],
      "text/plain": [
       "<plotly.tools.PlotlyDisplay object>"
      ]
     },
     "execution_count": 20,
     "metadata": {},
     "output_type": "execute_result"
    }
   ],
   "source": [
    "beer_colorscale = [[0,'rgb(242, 242, 242)'],\n",
    "                    [0.2,'rgb(255, 235, 179)'],\n",
    "                    [0.4,'rgb(255, 214, 102)'],\n",
    "                    [0.6,'rgb(255, 187, 0)'],\n",
    "                    [0.8,'rgb(153, 112, 0)'],\n",
    "                    [1,'rgb(77, 57, 0)']]\n",
    "\n",
    "beer_title = '2010 World Beer Consumption'\n",
    "beer_bar_title = 'Total Servings of Beer <br>Consumed (per person)</br>'\n",
    "beer_column = 'beer_servings'\n",
    "\n",
    "beer_data = set_data(beer_bar_title, beer_column, beer_colorscale)\n",
    "beer_layout = set_layout(beer_title)\n",
    "\n",
    "beer_fig = dict(data=beer_data, layout=beer_layout )\n",
    "py.iplot(beer_fig, validate=False, filename='beer-world-map', sharing='public')"
   ]
  },
  {
   "cell_type": "markdown",
   "metadata": {},
   "source": [
    "Beer seems to be popular in the former British colonies and of course extremely popular in Germany, Ireland, Poland, and the Czech Republic. However, beer is also extremely popular in a few unexpected countries: Venezuela, Namibia, and Gabon. I also expected beer consumption to be higher in the UK and Scandinavia. \n",
    "\n",
    "After some googling I found an <a href=\"https://www.cnn.com/travel/article/namibia-beer/index.html\"> article</a> explaining how beer was introduced to Namibia when it was a German colony. Apparently brewing beer is still central to Namibia's culture, as the country produces some of Africa's best beers. "
   ]
  },
  {
   "cell_type": "markdown",
   "metadata": {},
   "source": [
    "### Mapping Wine Consumption"
   ]
  },
  {
   "cell_type": "code",
   "execution_count": 21,
   "metadata": {},
   "outputs": [
    {
     "data": {
      "text/html": [
       "<iframe id=\"igraph\" scrolling=\"no\" style=\"border:none;\" seamless=\"seamless\" src=\"https://plot.ly/~winkmat7/36.embed\" height=\"525px\" width=\"100%\"></iframe>"
      ],
      "text/plain": [
       "<plotly.tools.PlotlyDisplay object>"
      ]
     },
     "execution_count": 21,
     "metadata": {},
     "output_type": "execute_result"
    }
   ],
   "source": [
    "wine_colorscale = [[0,\"rgb(242, 242, 242)\"],\n",
    "            [0.2,\"rgb(242, 217, 217)\"],\n",
    "            [0.4,\"rgb(215, 142, 142)\"],\n",
    "            [0.6,\"rgb(189, 66, 66)\"],\n",
    "            [0.8,\"rgb(113, 40, 40)\"],\n",
    "            [1,\"rgb(57, 20, 20)\"]]\n",
    "\n",
    "wine_title = '2010 World Wine Consumption'\n",
    "wine_bar_title = 'Total Servings of Wine <br>Consumed (per person)</br>'\n",
    "wine_column = 'wine_servings'\n",
    "\n",
    "wine_data = set_data(wine_bar_title, wine_column, wine_colorscale)\n",
    "wine_layout = set_layout(wine_title)\n",
    "\n",
    "wine_fig = dict(data=wine_data, layout=wine_layout )\n",
    "py.iplot(wine_fig, validate=False, filename='wine-map', sharing='public')"
   ]
  },
  {
   "cell_type": "markdown",
   "metadata": {},
   "source": [
    "Unsurprisingly, wine appears to be most popular in France and French Guiana. Portugal seems to come right behind France in wine consumption, to my surprise. Wine is predictably popular in Italy but also almost equally popular in a few unexpected countries: Argentina, Urguguay, and Australia. "
   ]
  },
  {
   "cell_type": "markdown",
   "metadata": {},
   "source": [
    "### Mapping Spirit Consumption"
   ]
  },
  {
   "cell_type": "code",
   "execution_count": 22,
   "metadata": {},
   "outputs": [
    {
     "data": {
      "text/html": [
       "<iframe id=\"igraph\" scrolling=\"no\" style=\"border:none;\" seamless=\"seamless\" src=\"https://plot.ly/~winkmat7/38.embed\" height=\"525px\" width=\"100%\"></iframe>"
      ],
      "text/plain": [
       "<plotly.tools.PlotlyDisplay object>"
      ]
     },
     "execution_count": 22,
     "metadata": {},
     "output_type": "execute_result"
    }
   ],
   "source": [
    "spirits_colorscale = [[0,\"rgb(242, 242, 242)\"],\n",
    "              [0.2,\"rgb(235, 179, 255)\"],\n",
    "              [0.4,\"rgb(214, 102, 255)\"],\n",
    "              [0.6,\"rgb(187, 0, 255)\"],\n",
    "              [0.8,\"rgb(112, 0, 153)\"],\n",
    "              [1,\"rgb(57, 0, 77)\"]]\n",
    "\n",
    "spirits_title = '2010 World Spirit Consumption'\n",
    "spirits_bar_title = 'Total Servings of Spirits <br>Consumed (per person)</br>'\n",
    "spirits_column = 'spirit_servings'\n",
    "\n",
    "spirits_data = set_data(spirits_bar_title, spirits_column, spirits_colorscale)\n",
    "spirits_layout = set_layout(spirits_title)\n",
    "\n",
    "spirits_fig = dict(data=spirits_data, layout=spirits_layout )\n",
    "py.iplot(spirits_fig, validate=False, filename='sprits-map', sharing='public')"
   ]
  },
  {
   "cell_type": "markdown",
   "metadata": {},
   "source": [
    "Russia and the former USSR predictably consume the most servings of spirits (presumably consisting of a lot of vodka). \n",
    "One country that stands out to me is Thailand, which consumes more servings of spirits than most of Eastern Europe. After some googling, it appears that a special kind of rice-based whiskey is extremely popular in Thailand, along with an assortment of Thai cocktails. \n",
    "\n",
    "China also appears to consume a lot of spirits. After some further research, I learned that baijiu is the most popular distilled spirit in China and the most-consumed distilled spirit in the world. "
   ]
  },
  {
   "cell_type": "markdown",
   "metadata": {},
   "source": [
    "## Conclusion"
   ]
  },
  {
   "cell_type": "markdown",
   "metadata": {},
   "source": [
    "Using world alcohol consumption data, I discovered some pretty interesting findings and have now added the following to my beverage bucket list:\n",
    "* Namibian and Venezuelan beer\n",
    "* Argentine and Australian wine \n",
    "* Thai whiskey\n",
    "* Baijiu (China)"
   ]
  },
  {
   "cell_type": "markdown",
   "metadata": {},
   "source": [
    "### Possible Further Steps\n",
    "* Analyze trends in world alcohol consumption \n",
    "* Map most popular alcoholic beverage in each country\n",
    "* Analyze alcohol consumption among US states"
   ]
  }
 ],
 "metadata": {
  "kernelspec": {
   "display_name": "Python 3",
   "language": "python",
   "name": "python3"
  },
  "language_info": {
   "codemirror_mode": {
    "name": "ipython",
    "version": 3
   },
   "file_extension": ".py",
   "mimetype": "text/x-python",
   "name": "python",
   "nbconvert_exporter": "python",
   "pygments_lexer": "ipython3",
   "version": "3.6.3"
  }
 },
 "nbformat": 4,
 "nbformat_minor": 2
}
